{
 "cells": [
  {
   "cell_type": "markdown",
   "id": "1745fc0a",
   "metadata": {},
   "source": [
    "# TRAINING"
   ]
  },
  {
   "cell_type": "code",
   "execution_count": 1,
   "id": "72d064f6",
   "metadata": {},
   "outputs": [],
   "source": [
    "import random\n",
    "import numpy as np\n",
    "import pickle\n",
    "import json\n",
    "import nltk\n",
    "from nltk.stem import WordNetLemmatizer"
   ]
  },
  {
   "cell_type": "code",
   "execution_count": 2,
   "id": "0b15f7a1",
   "metadata": {},
   "outputs": [],
   "source": [
    "intents_path = \"./data/intents.json\"\n",
    "words_path = \"./model/words.pkl\"\n",
    "classes_path = \"./model/classes.pkl\"\n",
    "weights_path = \"./model/weights.pkl\"\n",
    "biases_path = \"./model/biases.pkl\""
   ]
  },
  {
   "cell_type": "code",
   "execution_count": 3,
   "id": "c1d0d998",
   "metadata": {},
   "outputs": [
    {
     "name": "stderr",
     "output_type": "stream",
     "text": [
      "[nltk_data] Downloading package omw-1.4 to /home/amzker/nltk_data...\n",
      "[nltk_data]   Package omw-1.4 is already up-to-date!\n",
      "[nltk_data] Downloading package punkt to /home/amzker/nltk_data...\n",
      "[nltk_data]   Package punkt is already up-to-date!\n",
      "[nltk_data] Downloading package wordnet to /home/amzker/nltk_data...\n",
      "[nltk_data]   Package wordnet is already up-to-date!\n"
     ]
    },
    {
     "data": {
      "text/plain": [
       "True"
      ]
     },
     "execution_count": 3,
     "metadata": {},
     "output_type": "execute_result"
    }
   ],
   "source": [
    "lemmatizer = WordNetLemmatizer()\n",
    "nltk.download('omw-1.4')\n",
    "nltk.download(\"punkt\")\n",
    "nltk.download(\"wordnet\")"
   ]
  },
  {
   "cell_type": "code",
   "execution_count": 4,
   "id": "9c491527",
   "metadata": {},
   "outputs": [],
   "source": [
    "words = []\n",
    "classes = []\n",
    "documents = []\n",
    "ignore_words = [\"?\", \"!\"]\n",
    "data_file = open(intents_path).read()\n",
    "intents = json.loads(data_file)"
   ]
  },
  {
   "cell_type": "markdown",
   "id": "3d3fec23",
   "metadata": {},
   "source": [
    "## run this if you have normal intents.json"
   ]
  },
  {
   "cell_type": "code",
   "execution_count": null,
   "id": "90d898b1",
   "metadata": {},
   "outputs": [],
   "source": [
    "for intent in intents[\"intents\"]:\n",
    "    for pattern in intent[\"patterns\"]:\n",
    "        w = nltk.word_tokenize(pattern)\n",
    "        words.extend(w)\n",
    "        documents.append((w, intent[\"tag\"]))\n",
    "        if intent[\"tag\"] not in classes:\n",
    "            classes.append(intent[\"tag\"])"
   ]
  },
  {
   "cell_type": "markdown",
   "id": "60b868b8",
   "metadata": {},
   "source": [
    "## i made intents.json in libreoffice calc so i needed to modify like below"
   ]
  },
  {
   "cell_type": "code",
   "execution_count": 14,
   "id": "e2ea7e89",
   "metadata": {},
   "outputs": [],
   "source": [
    "for i in range(len(intents)):\n",
    "    intent = intents[i][\"intents\"]\n",
    "    for pattern in intent[\"patterns\"]:\n",
    "        w = nltk.word_tokenize(pattern)\n",
    "        words.extend(w)\n",
    "        documents.append((w, intent[\"tag\"]))\n",
    "        if intent[\"tag\"] not in classes:\n",
    "            classes.append(intent[\"tag\"])"
   ]
  },
  {
   "cell_type": "code",
   "execution_count": 15,
   "id": "f94142a7",
   "metadata": {},
   "outputs": [],
   "source": [
    "words = [lemmatizer.lemmatize(w.lower()) for w in words if w not in ignore_words]\n",
    "words = sorted(list(set(words)))\n",
    "classes = sorted(list(set(classes)))\n",
    "pickle.dump(words, open(words_path, \"wb\"))\n",
    "pickle.dump(classes, open(classes_path, \"wb\"))"
   ]
  },
  {
   "cell_type": "code",
   "execution_count": 16,
   "id": "337ca88d",
   "metadata": {
    "scrolled": true
   },
   "outputs": [
    {
     "name": "stderr",
     "output_type": "stream",
     "text": [
      "<ipython-input-16-1cfe4e5f7fad>:14: VisibleDeprecationWarning: Creating an ndarray from ragged nested sequences (which is a list-or-tuple of lists-or-tuples-or ndarrays with different lengths or shapes) is deprecated. If you meant to do this, you must specify 'dtype=object' when creating the ndarray\n",
      "  training = np.array(training)\n"
     ]
    }
   ],
   "source": [
    "training = []\n",
    "output_empty = [0] * len(classes)\n",
    "for doc in documents:\n",
    "    bag = []\n",
    "    pattern_words = doc[0]\n",
    "    pattern_words = [lemmatizer.lemmatize(word.lower()) for word in pattern_words]\n",
    "    for w in words:\n",
    "        bag.append(1) if w in pattern_words else bag.append(0)\n",
    "    output_row = list(output_empty)\n",
    "    output_row[classes.index(doc[1])] = 1\n",
    "    training.append([bag, output_row])\n",
    "\n",
    "random.shuffle(training)\n",
    "training = np.array(training)\n",
    "train_x = list(training[:, 0])\n",
    "train_y = list(training[:, 1])"
   ]
  },
  {
   "cell_type": "code",
   "execution_count": 17,
   "id": "4e937003",
   "metadata": {},
   "outputs": [],
   "source": [
    "weights = np.random.rand(len(train_x[0]), len(classes))\n",
    "biases = np.zeros(len(classes))\n",
    "epochs = 200\n",
    "for i in range(epochs):\n",
    "    for x, y in zip(train_x, train_y):\n",
    "        x = np.array(x)\n",
    "        layer = np.dot(x, weights) + biases\n",
    "        layer = np.maximum(layer, 0)\n",
    "        layer_error = layer - y\n",
    "        layer_delta = layer_error\n",
    "        weights_delta = np.dot(x[:, None], layer_delta[None, :])\n",
    "        biases_delta = layer_delta\n",
    "        weights -= 0.01 * weights_delta\n",
    "        biases -= 0.01 * biases_delta\n",
    "\n",
    "pickle.dump(weights, open(weights_path, \"wb\"))\n",
    "pickle.dump(biases, open(biases_path, \"wb\"))"
   ]
  },
  {
   "cell_type": "markdown",
   "id": "bcc6ff99",
   "metadata": {},
   "source": [
    "# PREDICTING"
   ]
  },
  {
   "cell_type": "code",
   "execution_count": 18,
   "id": "05550617",
   "metadata": {},
   "outputs": [],
   "source": [
    "import random\n",
    "import numpy as np\n",
    "import pickle\n",
    "import json\n",
    "import nltk\n",
    "from nltk.stem import WordNetLemmatizer"
   ]
  },
  {
   "cell_type": "code",
   "execution_count": 19,
   "id": "acd98abb",
   "metadata": {},
   "outputs": [
    {
     "name": "stderr",
     "output_type": "stream",
     "text": [
      "[nltk_data] Downloading package omw-1.4 to /home/amzker/nltk_data...\n",
      "[nltk_data]   Package omw-1.4 is already up-to-date!\n",
      "[nltk_data] Downloading package punkt to /home/amzker/nltk_data...\n",
      "[nltk_data]   Package punkt is already up-to-date!\n",
      "[nltk_data] Downloading package wordnet to /home/amzker/nltk_data...\n",
      "[nltk_data]   Package wordnet is already up-to-date!\n"
     ]
    },
    {
     "data": {
      "text/plain": [
       "True"
      ]
     },
     "execution_count": 19,
     "metadata": {},
     "output_type": "execute_result"
    }
   ],
   "source": [
    "lemmatizer = WordNetLemmatizer()\n",
    "nltk.download('omw-1.4')\n",
    "nltk.download(\"punkt\")\n",
    "nltk.download(\"wordnet\")"
   ]
  },
  {
   "cell_type": "code",
   "execution_count": 21,
   "id": "d6c85ce0",
   "metadata": {},
   "outputs": [],
   "source": [
    "words_path = \"./model/words.pkl\"\n",
    "classes_path = \"./model/classes.pkl\"\n",
    "weights_path = \"./model/weights.pkl\"\n",
    "biases_path = \"./model/biases.pkl\""
   ]
  },
  {
   "cell_type": "code",
   "execution_count": 22,
   "id": "92b947ab",
   "metadata": {},
   "outputs": [],
   "source": [
    "words = pickle.load(open(words_path, \"rb\"))\n",
    "classes = pickle.load(open(classes_path, \"rb\"))\n",
    "weights = pickle.load(open(weights_path, \"rb\"))\n",
    "biases = pickle.load(open(biases_path, \"rb\"))"
   ]
  },
  {
   "cell_type": "code",
   "execution_count": 23,
   "id": "a33a71aa",
   "metadata": {},
   "outputs": [],
   "source": [
    "def clean_up_sentence(sentence):\n",
    "    sentence_words = nltk.word_tokenize(sentence)\n",
    "    sentence_words = [lemmatizer.lemmatize(word.lower()) for word in sentence_words]\n",
    "    return sentence_words\n",
    "\n",
    "def bow(sentence, words, show_details=False):\n",
    "    sentence_words = clean_up_sentence(sentence)\n",
    "    bag = [0] * len(words)\n",
    "    for s in sentence_words:\n",
    "        for i, w in enumerate(words):\n",
    "            if w == s:\n",
    "                bag[i] = 1\n",
    "                if show_details:\n",
    "                    print(\"found in bag: %s\" % w)\n",
    "    return np.array(bag)\n",
    "\n",
    "def predict(inputs, weights, biases):\n",
    "    layer = np.dot(inputs, weights) + biases\n",
    "    layer = np.maximum(layer, 0)\n",
    "    return layer\n",
    "\n",
    "def classify(input_sentence):\n",
    "    inputs = bow(input_sentence, words)\n",
    "    predicted_output = predict(inputs, weights, biases)\n",
    "    predicted_class_index = np.argmax(predicted_output)\n",
    "    predicted_class = classes[predicted_class_index]\n",
    "    return predicted_class"
   ]
  },
  {
   "cell_type": "code",
   "execution_count": 31,
   "id": "166e61d7",
   "metadata": {
    "scrolled": true
   },
   "outputs": [
    {
     "name": "stdout",
     "output_type": "stream",
     "text": [
      "user: hello\n",
      "greeting\n",
      "user: take screenshort and open it\n",
      "greeting\n",
      "user: take screenshot\n",
      "screenshot\n",
      "user: need to train on bigger data i guess\n",
      "clipboard\n",
      "user: bye\n"
     ]
    }
   ],
   "source": [
    "while True:\n",
    "    useri = input(\"user: \")\n",
    "    if useri == \"bye\":\n",
    "        break\n",
    "    print(classify(useri))"
   ]
  }
 ],
 "metadata": {
  "kernelspec": {
   "display_name": "Python 3",
   "language": "python",
   "name": "python3"
  },
  "language_info": {
   "codemirror_mode": {
    "name": "ipython",
    "version": 3
   },
   "file_extension": ".py",
   "mimetype": "text/x-python",
   "name": "python",
   "nbconvert_exporter": "python",
   "pygments_lexer": "ipython3",
   "version": "3.8.8"
  }
 },
 "nbformat": 4,
 "nbformat_minor": 5
}
